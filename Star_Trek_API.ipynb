{
  "nbformat": 4,
  "nbformat_minor": 0,
  "metadata": {
    "colab": {
      "name": "Star Trek API.ipynb",
      "provenance": [],
      "collapsed_sections": [],
      "authorship_tag": "ABX9TyMuWxV0rTQNKFm1wMc0+6qd",
      "include_colab_link": true
    },
    "kernelspec": {
      "name": "python3",
      "display_name": "Python 3"
    }
  },
  "cells": [
    {
      "cell_type": "markdown",
      "metadata": {
        "id": "view-in-github",
        "colab_type": "text"
      },
      "source": [
        "<a href=\"https://colab.research.google.com/github/hawc2/Coding-Working-Group/blob/master/Star_Trek_API.ipynb\" target=\"_parent\"><img src=\"https://colab.research.google.com/assets/colab-badge.svg\" alt=\"Open In Colab\"/></a>"
      ]
    },
    {
      "cell_type": "markdown",
      "metadata": {
        "id": "sQ5cbqfdTzS5"
      },
      "source": [
        "# Star Trek API\n",
        "\n",
        "This script queries the Star Trek API and visualizes the data in R\n",
        "\n",
        "# To Dos\n",
        "\n",
        "Refine alternate queries and a basic visualize\n",
        "\n",
        "Upload draft to new Github repo\n",
        "\n",
        "Share with Star Trek team . . . \n",
        "\n",
        "\n",
        "## Relevant Resources\n",
        "\n",
        "[Stapi API Guide - Primary Source of this Notebook](https://leonawicz.github.io/rtrek/articles/stapi.html)\n",
        "\n",
        "[Stapi API Homepage](http://stapi.co/)\n",
        "\n",
        "[Rtrek for Stapi API](https://rdrr.io/cran/rtrek/man/stapi.html)\n",
        "\n",
        "[Data Source - Memory Alpha](https://memory-alpha.fandom.com/wiki/Portal:Main)\n",
        "\n",
        "[R in Google Colab](https://towardsdatascience.com/how-to-use-r-in-google-colab-b6e02d736497)\n",
        "\n",
        "---\n",
        "\n"
      ]
    },
    {
      "cell_type": "markdown",
      "metadata": {
        "id": "7JXi_lRQVDfn"
      },
      "source": [
        "# Set up Dependencies"
      ]
    },
    {
      "cell_type": "code",
      "metadata": {
        "id": "33rmOgyiTwsc",
        "colab": {
          "base_uri": "https://localhost:8080/"
        },
        "outputId": "bc04b7ec-7e6f-480d-c9e2-47d453ba1be3"
      },
      "source": [
        "%load_ext rpy2.ipython"
      ],
      "execution_count": null,
      "outputs": [
        {
          "output_type": "stream",
          "text": [
            "/usr/local/lib/python3.6/dist-packages/rpy2/robjects/pandas2ri.py:14: FutureWarning: pandas.core.index is deprecated and will be removed in a future version.  The public classes are available in the top-level namespace.\n",
            "  from pandas.core.index import Index as PandasIndex\n",
            "/usr/local/lib/python3.6/dist-packages/rpy2/robjects/pandas2ri.py:34: UserWarning: pandas >= 1.0 is not supported.\n",
            "  warnings.warn('pandas >= 1.0 is not supported.')\n"
          ],
          "name": "stderr"
        }
      ]
    },
    {
      "cell_type": "code",
      "metadata": {
        "id": "S3_t5XT5UMlm"
      },
      "source": [
        "%%R\n",
        "install.packages(\"dplyr\")\n",
        "install.packages(\"rtrek\")\n",
        "install.packages(\"ggplot2\")\n",
        "install.packages(\"showtext\")\n",
        "install.packages(\"trekfont\")\n",
        "library(trekfont)\n",
        "library(dplyr)\n",
        "library(rtrek)\n",
        "library(ggplot2)\n",
        "library(showtext)"
      ],
      "execution_count": null,
      "outputs": []
    },
    {
      "cell_type": "markdown",
      "metadata": {
        "id": "9aqIlnbT8r06"
      },
      "source": [
        "---"
      ]
    },
    {
      "cell_type": "markdown",
      "metadata": {
        "id": "-57o3d3MVJWy"
      },
      "source": [
        "# Query STAPI API"
      ]
    },
    {
      "cell_type": "code",
      "metadata": {
        "colab": {
          "base_uri": "https://localhost:8080/"
        },
        "id": "laC21xijUHcV",
        "outputId": "93af36aa-4383-4923-8cac-c5c34899fc04"
      },
      "source": [
        "%%R\n",
        "stapi(\"character\", page_count = TRUE) # check first\n",
        "stapi(\"character\", page = 2) %>% select(1:2)\n",
        "Q <- stapi(\"character\", uid = \"CHMA0000025118\")\n",
        "Q$episodes %>% select(uid, title, stardateFrom, stardateTo)"
      ],
      "execution_count": null,
      "outputs": [
        {
          "output_type": "stream",
          "text": [
            "Total pages to retrieve all results: 66 \n",
            "             uid                 title stardateFrom stardateTo\n",
            "1 EPMA0000001458    All Good Things...      47988.0    47988.0\n",
            "2 EPMA0000000845                Q-Less      46531.2    46531.2\n",
            "3 EPMA0000001329                 Q Who      42761.3    42761.3\n",
            "4 EPMA0000000651              Tapestry           NA         NA\n",
            "5 EPMA0000001510    The Q and the Grey      50384.2    50392.7\n",
            "6 EPMA0000000483 Encounter at Farpoint      41153.7    41153.7\n",
            "7 EPMA0000162588            Death Wish           NA         NA\n",
            "8 EPMA0000001413                True Q      46192.3    46192.3\n",
            "9 EPMA0000001377                  Qpid      44741.9    44741.9\n"
          ],
          "name": "stdout"
        }
      ]
    },
    {
      "cell_type": "markdown",
      "metadata": {
        "id": "1pzNClaSVLt_"
      },
      "source": [
        "# Explore Data"
      ]
    },
    {
      "cell_type": "code",
      "metadata": {
        "colab": {
          "base_uri": "https://localhost:8080/"
        },
        "id": "BHE1FxHtVQqZ",
        "outputId": "2b574c2d-2960-4b8f-c5a2-0ebdc8182b54"
      },
      "source": [
        "%%R\n",
        "stapiEntities"
      ],
      "execution_count": null,
      "outputs": [
        {
          "output_type": "stream",
          "text": [
            "# A tibble: 40 x 4\n",
            "   id                 class   ncol colnames    \n",
            "   <chr>              <chr>  <int> <named list>\n",
            " 1 animal             tbl_df     7 <chr [7]>   \n",
            " 2 astronomicalObject tbl_df     5 <chr [5]>   \n",
            " 3 book               tbl_df    24 <chr [24]>  \n",
            " 4 bookCollection     tbl_df    10 <chr [10]>  \n",
            " 5 bookSeries         tbl_df    11 <chr [11]>  \n",
            " 6 character          tbl_df    24 <chr [24]>  \n",
            " 7 comicCollection    tbl_df    14 <chr [14]>  \n",
            " 8 comics             tbl_df    15 <chr [15]>  \n",
            " 9 comicSeries        tbl_df    15 <chr [15]>  \n",
            "10 comicStrip         tbl_df    12 <chr [12]>  \n",
            "# … with 30 more rows\n"
          ],
          "name": "stdout"
        }
      ]
    },
    {
      "cell_type": "code",
      "metadata": {
        "id": "V-kAqWyJWjFc",
        "colab": {
          "base_uri": "https://localhost:8080/"
        },
        "outputId": "6ff5d412-f678-4362-d53a-ab71a78faa8c"
      },
      "source": [
        "%%R\n",
        "stapi(\"character\", page_count = TRUE)"
      ],
      "execution_count": null,
      "outputs": [
        {
          "output_type": "stream",
          "text": [
            "Total pages to retrieve all results: 66 \n"
          ],
          "name": "stdout"
        }
      ]
    },
    {
      "cell_type": "code",
      "metadata": {
        "id": "D2fDXP8LWjNA",
        "colab": {
          "base_uri": "https://localhost:8080/"
        },
        "outputId": "70ea95a5-b59b-49f5-edb9-c94be83b973b"
      },
      "source": [
        "%%R\n",
        "stapi(\"character\", page = 1) %>% select(uid, name)"
      ],
      "execution_count": null,
      "outputs": [
        {
          "output_type": "stream",
          "text": [
            "# A tibble: 100 x 2\n",
            "   uid            name            \n",
            "   <chr>          <chr>           \n",
            " 1 CHMA0000021696 Pechetti        \n",
            " 2 CHMA0000028502 Pomet           \n",
            " 3 CHMA0000134966 Eddie Newsom    \n",
            " 4 CHMA0000101321 T. Virts        \n",
            " 5 CHMA0000053158 Annabelle series\n",
            " 6 CHMA0000008975 Torias Dax      \n",
            " 7 CHMA0000232471 T. Peel         \n",
            " 8 CHMA0000087568 Grathon Tolar   \n",
            " 9 CHMA0000190805 C. Russell      \n",
            "10 CHMA0000069617 Mike Vejar      \n",
            "# … with 90 more rows\n"
          ],
          "name": "stdout"
        }
      ]
    },
    {
      "cell_type": "code",
      "metadata": {
        "id": "RQoGu8svWjUX",
        "colab": {
          "base_uri": "https://localhost:8080/"
        },
        "outputId": "3e6eaf91-1514-4186-f0b5-5dac29a09881"
      },
      "source": [
        "%%R\n",
        "Q <- \"CHMA0000025118\"\n",
        "Q <- stapi(\"character\", uid = Q)\n",
        "\n",
        "q_eps <- Q$episodes %>% select(uid, title, stardateFrom, stardateTo)\n",
        "q_eps"
      ],
      "execution_count": null,
      "outputs": [
        {
          "output_type": "stream",
          "text": [
            "             uid                 title stardateFrom stardateTo\n",
            "1 EPMA0000001458    All Good Things...      47988.0    47988.0\n",
            "2 EPMA0000000845                Q-Less      46531.2    46531.2\n",
            "3 EPMA0000001329                 Q Who      42761.3    42761.3\n",
            "4 EPMA0000000651              Tapestry           NA         NA\n",
            "5 EPMA0000001510    The Q and the Grey      50384.2    50392.7\n",
            "6 EPMA0000000483 Encounter at Farpoint      41153.7    41153.7\n",
            "7 EPMA0000162588            Death Wish           NA         NA\n",
            "8 EPMA0000001413                True Q      46192.3    46192.3\n",
            "9 EPMA0000001377                  Qpid      44741.9    44741.9\n"
          ],
          "name": "stdout"
        }
      ]
    },
    {
      "cell_type": "code",
      "metadata": {
        "id": "tR7EREJ0Wspc",
        "colab": {
          "base_uri": "https://localhost:8080/"
        },
        "outputId": "993c85e9-8188-493e-de6d-bd46644f45c4"
      },
      "source": [
        "%%R\n",
        "eps <- c(\"Encounter at Farpoint\", \"All Good Things...\")\n",
        "q_eps <- filter(q_eps, title %in% eps)\n",
        "q_eps"
      ],
      "execution_count": null,
      "outputs": [
        {
          "output_type": "stream",
          "text": [
            "             uid                 title stardateFrom stardateTo\n",
            "1 EPMA0000001458    All Good Things...      47988.0    47988.0\n",
            "2 EPMA0000000483 Encounter at Farpoint      41153.7    41153.7\n"
          ],
          "name": "stdout"
        }
      ]
    },
    {
      "cell_type": "code",
      "metadata": {
        "id": "9TsW-hZLWu61",
        "colab": {
          "base_uri": "https://localhost:8080/"
        },
        "outputId": "41697f42-8ace-4f7e-9a86-b10b9e576af5"
      },
      "source": [
        "%%R\n",
        "eaf <- stapi(\"episode\", uid = q_eps$uid[q_eps$title == eps[1]])\n",
        "agt <- stapi(\"episode\", uid = q_eps$uid[q_eps$title == eps[2]])\n",
        "characters <- setdiff(intersect(eaf$characters$name, agt$characters$name), \"Q\")\n",
        "characters"
      ],
      "execution_count": null,
      "outputs": [
        {
          "output_type": "stream",
          "text": [
            "[1] \"Deanna Troi\"      \"William T. Riker\" \"Geordi La Forge\"  \"Worf\"            \n",
            "[5] \"Data\"             \"Jean-Luc Picard\"  \"Beverly Crusher\" \n"
          ],
          "name": "stdout"
        }
      ]
    },
    {
      "cell_type": "code",
      "metadata": {
        "id": "ANrPuTfSWyEn",
        "colab": {
          "base_uri": "https://localhost:8080/"
        },
        "outputId": "89652f96-451f-4667-a8b6-bb00558b1023"
      },
      "source": [
        "%%R\n",
        "characters <- eaf$characters %>% select(uid, name) %>% filter(name %in% characters)\n",
        "characters"
      ],
      "execution_count": null,
      "outputs": [
        {
          "output_type": "stream",
          "text": [
            "             uid             name\n",
            "1 CHMA0000123101      Deanna Troi\n",
            "2 CHMA0000123073 William T. Riker\n",
            "3 CHMA0000132570  Geordi La Forge\n",
            "4 CHMA0000123141             Worf\n",
            "5 CHMA0000128858             Data\n",
            "6 CHMA0000132571  Jean-Luc Picard\n",
            "7 CHMA0000123143  Beverly Crusher\n"
          ],
          "name": "stdout"
        }
      ]
    },
    {
      "cell_type": "markdown",
      "metadata": {
        "id": "cQaMk52wXsP_"
      },
      "source": [
        "# Visualize Data"
      ]
    },
    {
      "cell_type": "code",
      "metadata": {
        "id": "cEcu0LYyW0Oo",
        "colab": {
          "base_uri": "https://localhost:8080/",
          "height": 497
        },
        "outputId": "e62b53b7-ed90-4f22-9d17-5eff8efcbb63"
      },
      "source": [
        "%%R\n",
        "eps_count <- rowwise(characters) %>% \n",
        "  do(stapi(\"character\", uid = .$uid)$episodes$series %>% \n",
        "       summarize(n = sum(title == \"Star Trek: The Next Generation\"))\n",
        "  )\n",
        "eps_count <- select(characters, name) %>% bind_cols(eps_count)\n",
        "\n",
        "font_add(\"StarNext\", system.file(paste0(\"fonts/StarNext.ttf\"), package = \"trekfont\"))\n",
        "showtext_auto()\n",
        "\n",
        "uniforms <- c(\"#2b53a7\", \"#c1c730\", \"#a71313\")[c(1, 1, 2, 2, 2, 3, 3)]\n",
        "eb <- element_blank()\n",
        "\n",
        "ggplot(eps_count, aes(factor(name, levels = name[order(n)]), n)) + \n",
        "  geom_col(fill = uniforms, color = \"gray20\") + coord_flip() + \n",
        "  theme_minimal(base_size = 28) + \n",
        "  theme(plot.title = element_text(family = \"StarNext\"), line = eb, axis.text.x = eb) +\n",
        "  scale_x_discrete(expand = c(0, 0)) + scale_y_continuous(expand = c(0, 0)) +\n",
        "  labs(x = \"Character\", y = \"Number of episodes\", title = \"TNG EPISODE APPEARANCES\") +\n",
        "  geom_text(aes(label = n), color = \"white\", size = 10, hjust = 1.5)"
      ],
      "execution_count": null,
      "outputs": [
        {
          "output_type": "display_data",
          "data": {
            "image/png": "[encoded data removed]"
          },
          "metadata": {
            "tags": []
          }
        }
      ]
    }
  ]
}